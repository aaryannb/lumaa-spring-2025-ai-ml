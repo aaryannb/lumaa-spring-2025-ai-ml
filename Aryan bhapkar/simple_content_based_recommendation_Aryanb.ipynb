{
 "cells": [
  {
   "cell_type": "code",
   "execution_count": 13,
   "id": "e98149eb-d7d2-430c-936e-85b99cb82277",
   "metadata": {},
   "outputs": [
    {
     "data": {
      "text/html": [
       "        <script type=\"text/javascript\">\n",
       "        window.PlotlyConfig = {MathJaxConfig: 'local'};\n",
       "        if (window.MathJax && window.MathJax.Hub && window.MathJax.Hub.Config) {window.MathJax.Hub.Config({SVG: {font: \"STIX-Web\"}});}\n",
       "        </script>\n",
       "        <script type=\"module\">import \"https://cdn.plot.ly/plotly-3.0.0.min\"</script>\n",
       "        "
      ]
     },
     "metadata": {},
     "output_type": "display_data"
    }
   ],
   "source": [
    "##**AI/Machine Learning Intern Challenge: Simple Content-Based Recommendation**\n",
    "\n",
    "import pandas as pd\n",
    "import numpy as np\n",
    "import seaborn as sns\n",
    "import matplotlib.pyplot as plt\n",
    "import plotly.express as px\n",
    "from plotly.offline import init_notebook_mode\n",
    "from itertools import permutations\n",
    "init_notebook_mode(connected=True)\n",
    "import re\n",
    "from sklearn.feature_extraction.text import TfidfVectorizer, ENGLISH_STOP_WORDS\n",
    "from sklearn.metrics.pairwise import cosine_similarity"
   ]
  },
  {
   "cell_type": "code",
   "execution_count": 14,
   "id": "62993153-6d2a-4d49-94e0-2d8562fbffbf",
   "metadata": {},
   "outputs": [
    {
     "name": "stdout",
     "output_type": "stream",
     "text": [
      "<class 'pandas.core.frame.DataFrame'>\n",
      "RangeIndex: 9957 entries, 0 to 9956\n",
      "Data columns (total 9 columns):\n",
      " #   Column       Non-Null Count  Dtype  \n",
      "---  ------       --------------  -----  \n",
      " 0   title        9957 non-null   object \n",
      " 1   year         9430 non-null   object \n",
      " 2   certificate  6504 non-null   object \n",
      " 3   duration     7921 non-null   object \n",
      " 4   genre        9884 non-null   object \n",
      " 5   rating       8784 non-null   float64\n",
      " 6   description  9957 non-null   object \n",
      " 7   stars        9957 non-null   object \n",
      " 8   votes        8784 non-null   object \n",
      "dtypes: float64(1), object(8)\n",
      "memory usage: 700.2+ KB\n"
     ]
    },
    {
     "data": {
      "text/html": [
       "<div>\n",
       "<style scoped>\n",
       "    .dataframe tbody tr th:only-of-type {\n",
       "        vertical-align: middle;\n",
       "    }\n",
       "\n",
       "    .dataframe tbody tr th {\n",
       "        vertical-align: top;\n",
       "    }\n",
       "\n",
       "    .dataframe thead th {\n",
       "        text-align: right;\n",
       "    }\n",
       "</style>\n",
       "<table border=\"1\" class=\"dataframe\">\n",
       "  <thead>\n",
       "    <tr style=\"text-align: right;\">\n",
       "      <th></th>\n",
       "      <th>title</th>\n",
       "      <th>year</th>\n",
       "      <th>certificate</th>\n",
       "      <th>duration</th>\n",
       "      <th>genre</th>\n",
       "      <th>rating</th>\n",
       "      <th>description</th>\n",
       "      <th>stars</th>\n",
       "      <th>votes</th>\n",
       "    </tr>\n",
       "  </thead>\n",
       "  <tbody>\n",
       "    <tr>\n",
       "      <th>0</th>\n",
       "      <td>Cobra Kai</td>\n",
       "      <td>(2018– )</td>\n",
       "      <td>TV-14</td>\n",
       "      <td>30 min</td>\n",
       "      <td>Action, Comedy, Drama</td>\n",
       "      <td>8.5</td>\n",
       "      <td>Decades after their 1984 All Valley Karate Tou...</td>\n",
       "      <td>['Ralph Macchio, ', 'William Zabka, ', 'Courtn...</td>\n",
       "      <td>177,031</td>\n",
       "    </tr>\n",
       "    <tr>\n",
       "      <th>1</th>\n",
       "      <td>The Crown</td>\n",
       "      <td>(2016– )</td>\n",
       "      <td>TV-MA</td>\n",
       "      <td>58 min</td>\n",
       "      <td>Biography, Drama, History</td>\n",
       "      <td>8.7</td>\n",
       "      <td>Follows the political rivalries and romance of...</td>\n",
       "      <td>['Claire Foy, ', 'Olivia Colman, ', 'Imelda St...</td>\n",
       "      <td>199,885</td>\n",
       "    </tr>\n",
       "    <tr>\n",
       "      <th>2</th>\n",
       "      <td>Better Call Saul</td>\n",
       "      <td>(2015–2022)</td>\n",
       "      <td>TV-MA</td>\n",
       "      <td>46 min</td>\n",
       "      <td>Crime, Drama</td>\n",
       "      <td>8.9</td>\n",
       "      <td>The trials and tribulations of criminal lawyer...</td>\n",
       "      <td>['Bob Odenkirk, ', 'Rhea Seehorn, ', 'Jonathan...</td>\n",
       "      <td>501,384</td>\n",
       "    </tr>\n",
       "    <tr>\n",
       "      <th>3</th>\n",
       "      <td>Devil in Ohio</td>\n",
       "      <td>(2022)</td>\n",
       "      <td>TV-MA</td>\n",
       "      <td>356 min</td>\n",
       "      <td>Drama, Horror, Mystery</td>\n",
       "      <td>5.9</td>\n",
       "      <td>When a psychiatrist shelters a mysterious cult...</td>\n",
       "      <td>['Emily Deschanel, ', 'Sam Jaeger, ', 'Gerardo...</td>\n",
       "      <td>9,773</td>\n",
       "    </tr>\n",
       "    <tr>\n",
       "      <th>4</th>\n",
       "      <td>Cyberpunk: Edgerunners</td>\n",
       "      <td>(2022– )</td>\n",
       "      <td>TV-MA</td>\n",
       "      <td>24 min</td>\n",
       "      <td>Animation, Action, Adventure</td>\n",
       "      <td>8.6</td>\n",
       "      <td>A Street Kid trying to survive in a technology...</td>\n",
       "      <td>['Zach Aguilar, ', 'Kenichiro Ohashi, ', 'Emi ...</td>\n",
       "      <td>15,413</td>\n",
       "    </tr>\n",
       "  </tbody>\n",
       "</table>\n",
       "</div>"
      ],
      "text/plain": [
       "                    title         year certificate duration  \\\n",
       "0               Cobra Kai     (2018– )       TV-14   30 min   \n",
       "1               The Crown     (2016– )       TV-MA   58 min   \n",
       "2        Better Call Saul  (2015–2022)       TV-MA   46 min   \n",
       "3           Devil in Ohio       (2022)       TV-MA  356 min   \n",
       "4  Cyberpunk: Edgerunners     (2022– )       TV-MA   24 min   \n",
       "\n",
       "                          genre  rating  \\\n",
       "0         Action, Comedy, Drama     8.5   \n",
       "1     Biography, Drama, History     8.7   \n",
       "2                  Crime, Drama     8.9   \n",
       "3        Drama, Horror, Mystery     5.9   \n",
       "4  Animation, Action, Adventure     8.6   \n",
       "\n",
       "                                         description  \\\n",
       "0  Decades after their 1984 All Valley Karate Tou...   \n",
       "1  Follows the political rivalries and romance of...   \n",
       "2  The trials and tribulations of criminal lawyer...   \n",
       "3  When a psychiatrist shelters a mysterious cult...   \n",
       "4  A Street Kid trying to survive in a technology...   \n",
       "\n",
       "                                               stars    votes  \n",
       "0  ['Ralph Macchio, ', 'William Zabka, ', 'Courtn...  177,031  \n",
       "1  ['Claire Foy, ', 'Olivia Colman, ', 'Imelda St...  199,885  \n",
       "2  ['Bob Odenkirk, ', 'Rhea Seehorn, ', 'Jonathan...  501,384  \n",
       "3  ['Emily Deschanel, ', 'Sam Jaeger, ', 'Gerardo...    9,773  \n",
       "4  ['Zach Aguilar, ', 'Kenichiro Ohashi, ', 'Emi ...   15,413  "
      ]
     },
     "execution_count": 14,
     "metadata": {},
     "output_type": "execute_result"
    }
   ],
   "source": [
    "# Load the dataset\n",
    "df = pd.read_csv(\"F:/Resume/job assement/IMBD/IMBD.csv\")\n",
    "df.head()\n",
    "\n",
    "df.info()\n",
    "\n",
    "df = df.drop_duplicates(subset=['title', 'description'])\n",
    "\n",
    "# Fill missing values in genre with an empty string\n",
    "df['genre'] = df['genre'].fillna('')\n",
    "\n",
    "# Remove any rows with missing descriptions (as it's key for similarity)\n",
    "df = df.dropna(subset=['description'])\n",
    "\n",
    "df.head()"
   ]
  },
  {
   "cell_type": "code",
   "execution_count": 6,
   "id": "b7816dbc-3a8e-408e-9d63-26916f2ae4d0",
   "metadata": {},
   "outputs": [
    {
     "data": {
      "text/html": [
       "<div>\n",
       "<style scoped>\n",
       "    .dataframe tbody tr th:only-of-type {\n",
       "        vertical-align: middle;\n",
       "    }\n",
       "\n",
       "    .dataframe tbody tr th {\n",
       "        vertical-align: top;\n",
       "    }\n",
       "\n",
       "    .dataframe thead th {\n",
       "        text-align: right;\n",
       "    }\n",
       "</style>\n",
       "<table border=\"1\" class=\"dataframe\">\n",
       "  <thead>\n",
       "    <tr style=\"text-align: right;\">\n",
       "      <th></th>\n",
       "      <th>title</th>\n",
       "      <th>cleaned_text</th>\n",
       "    </tr>\n",
       "  </thead>\n",
       "  <tbody>\n",
       "    <tr>\n",
       "      <th>0</th>\n",
       "      <td>Cobra Kai</td>\n",
       "      <td>action comedy drama decades 1984 valley karate...</td>\n",
       "    </tr>\n",
       "    <tr>\n",
       "      <th>1</th>\n",
       "      <td>The Crown</td>\n",
       "      <td>biography drama history follows political riva...</td>\n",
       "    </tr>\n",
       "    <tr>\n",
       "      <th>2</th>\n",
       "      <td>Better Call Saul</td>\n",
       "      <td>crime drama trials tribulations criminal lawye...</td>\n",
       "    </tr>\n",
       "    <tr>\n",
       "      <th>3</th>\n",
       "      <td>Devil in Ohio</td>\n",
       "      <td>drama horror mystery psychiatrist shelters mys...</td>\n",
       "    </tr>\n",
       "    <tr>\n",
       "      <th>4</th>\n",
       "      <td>Cyberpunk: Edgerunners</td>\n",
       "      <td>animation action adventure street kid trying s...</td>\n",
       "    </tr>\n",
       "  </tbody>\n",
       "</table>\n",
       "</div>"
      ],
      "text/plain": [
       "                    title                                       cleaned_text\n",
       "0               Cobra Kai  action comedy drama decades 1984 valley karate...\n",
       "1               The Crown  biography drama history follows political riva...\n",
       "2        Better Call Saul  crime drama trials tribulations criminal lawye...\n",
       "3           Devil in Ohio  drama horror mystery psychiatrist shelters mys...\n",
       "4  Cyberpunk: Edgerunners  animation action adventure street kid trying s..."
      ]
     },
     "execution_count": 6,
     "metadata": {},
     "output_type": "execute_result"
    }
   ],
   "source": [
    "# Function to clean text: remove special chars, lowercasing, remove stopwords\n",
    "def clean_text(text):\n",
    "    text = text.lower()\n",
    "    text = re.sub(r'[^a-z0-9\\s]', '', text)\n",
    "    words = text.split()  # Tokenize\n",
    "    words = [word for word in words if word not in ENGLISH_STOP_WORDS]\n",
    "    return ' '.join(words)\n",
    "\n",
    "df['cleaned_text'] = (df['genre'] + \" \" + df['description']).apply(clean_text)\n",
    "\n",
    "df[['title', 'cleaned_text']].head()"
   ]
  },
  {
   "cell_type": "code",
   "execution_count": 7,
   "id": "66f9eae2-6925-4df4-a8f6-18a1740f4501",
   "metadata": {},
   "outputs": [],
   "source": [
    "# Create TF-IDF vectorizer and transform data\n",
    "vectorizer = TfidfVectorizer()\n",
    "tfidf_matrix = vectorizer.fit_transform(df['cleaned_text'])\n",
    "\n",
    "def generate_query_combinations(queries):\n",
    "    combined_queries = set()\n",
    "    for i in range(1, len(queries) + 1):\n",
    "        for combo in permutations(queries, i):\n",
    "            combined_queries.add(\" \".join(combo))\n",
    "    return list(combined_queries)"
   ]
  },
  {
   "cell_type": "code",
   "execution_count": 8,
   "id": "264bd991-3221-434d-9649-9d9eb092139b",
   "metadata": {},
   "outputs": [],
   "source": [
    "# Function to get recommendations\n",
    "def get_recommendations(queries, top_n=5):\n",
    "    query_combinations = generate_query_combinations(queries)\n",
    "    best_matches = []\n",
    "\n",
    "    for query in query_combinations:\n",
    "        query_cleaned = clean_text(query)\n",
    "        query_vector = vectorizer.transform([query_cleaned])\n",
    "        similarities = cosine_similarity(query_vector, tfidf_matrix).flatten()\n",
    "        top_indices = np.argsort(similarities)[-top_n:][::-1]\n",
    "        best_matches.extend([(df.iloc[i]['title'], similarities[i]) for i in top_indices])\n",
    "\n",
    "    best_matches = sorted(set(best_matches), key=lambda x: x[1], reverse=True)[:top_n]\n",
    "    return best_matches"
   ]
  },
  {
   "cell_type": "code",
   "execution_count": 15,
   "id": "6f13f0fa-127d-4132-aed9-1739b519fbda",
   "metadata": {},
   "outputs": [
    {
     "name": "stdout",
     "output_type": "stream",
     "text": [
      "Scare Tactics (Similarity: 0.362)\n",
      "Love, Death & Robots (Similarity: 0.323)\n",
      "The Day the Earth Stood Still (Similarity: 0.296)\n",
      "Alien Worlds (Similarity: 0.280)\n",
      "Six Windows in the Desert (Similarity: 0.260)\n"
     ]
    }
   ],
   "source": [
    "# Example usage\n",
    "if __name__ == \"__main__\":\n",
    "    user_queries = [\"I love science fiction movies and romance\"]\n",
    "    recommendations = get_recommendations(user_queries)\n",
    "    for title, score in recommendations:\n",
    "        print(f\"{title} (Similarity: {score:.3f})\")"
   ]
  },
  {
   "cell_type": "code",
   "execution_count": 10,
   "id": "842c58f6-5882-4943-b7a2-e4a9ebc5022e",
   "metadata": {},
   "outputs": [
    {
     "name": "stdout",
     "output_type": "stream",
     "text": [
      "Being Mrs Elliot (Similarity: 0.517)\n",
      "Black Knight (Similarity: 0.460)\n",
      "Our Lovers (Similarity: 0.414)\n",
      "The Deadly Affair (Similarity: 0.413)\n",
      "To All the Boys I've Loved Before (Similarity: 0.404)\n"
     ]
    }
   ],
   "source": [
    "# Example usage\n",
    "if __name__ == \"__main__\":\n",
    "    user_queries = [\"I love comdey romance\"]\n",
    "    recommendations = get_recommendations(user_queries)\n",
    "    for title, score in recommendations:\n",
    "        print(f\"{title} (Similarity: {score:.3f})\")"
   ]
  },
  {
   "cell_type": "code",
   "execution_count": 16,
   "id": "7015e828-81a2-483a-aa26-787f339e8522",
   "metadata": {},
   "outputs": [
    {
     "name": "stdout",
     "output_type": "stream",
     "text": [
      "Final Space (Similarity: 0.303)\n",
      "Timeless (Similarity: 0.301)\n",
      "Cosmos: A Spacetime Odyssey (Similarity: 0.291)\n",
      "Don Quijote de la Láctea (Similarity: 0.289)\n",
      "Power Rangers (Similarity: 0.275)\n"
     ]
    }
   ],
   "source": [
    "# Example usage\n",
    "if __name__ == \"__main__\":\n",
    "    user_queries = [\"I love time travel and adventure in space\"]\n",
    "    recommendations = get_recommendations(user_queries)\n",
    "    for title, score in recommendations:\n",
    "        print(f\"{title} (Similarity: {score:.3f})\")\n",
    "\n"
   ]
  },
  {
   "cell_type": "code",
   "execution_count": null,
   "id": "1f87ad5c-c17b-4566-9dac-bd28dd1d77d1",
   "metadata": {},
   "outputs": [],
   "source": []
  },
  {
   "cell_type": "code",
   "execution_count": 12,
   "id": "7671a25d-ff94-4475-9d40-58c6cd861d34",
   "metadata": {},
   "outputs": [],
   "source": [
    "# Salary expectation per month - 4200$"
   ]
  },
  {
   "cell_type": "code",
   "execution_count": null,
   "id": "e06ba7ee-d516-4e9c-be43-e96cdc8b474c",
   "metadata": {},
   "outputs": [],
   "source": []
  },
  {
   "cell_type": "code",
   "execution_count": null,
   "id": "8197f621-0738-4796-8f27-ff48281d7a5a",
   "metadata": {},
   "outputs": [],
   "source": []
  }
 ],
 "metadata": {
  "kernelspec": {
   "display_name": "Python 3 (ipykernel)",
   "language": "python",
   "name": "python3"
  },
  "language_info": {
   "codemirror_mode": {
    "name": "ipython",
    "version": 3
   },
   "file_extension": ".py",
   "mimetype": "text/x-python",
   "name": "python",
   "nbconvert_exporter": "python",
   "pygments_lexer": "ipython3",
   "version": "3.13.1"
  }
 },
 "nbformat": 4,
 "nbformat_minor": 5
}
